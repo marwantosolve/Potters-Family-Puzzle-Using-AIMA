{
  "cells": [
    {
      "cell_type": "markdown",
      "metadata": {
        "id": "H4qF_R0Oaqtk"
      },
      "source": [
        "# **Solving the Potter's Family Puzzle using AIMA's Logic Library**\n",
        "\n",
        "In this notebook, we will solve the Potter’s Family Puzzle using two different approaches:\n",
        "\n",
        "1. **Propositional Logic**\n",
        "2. **First-Order Logic**\n",
        "\n",
        "Both approaches will be implemented using the AIMA (Artificial Intelligence: A Modern Approach) logic library."
      ]
    },
    {
      "cell_type": "markdown",
      "metadata": {
        "id": "TiCqPEXqc0aX"
      },
      "source": [
        "### *Installing aima library dependencies*"
      ]
    },
    {
      "cell_type": "code",
      "execution_count": null,
      "metadata": {
        "colab": {
          "base_uri": "https://localhost:8080/"
        },
        "collapsed": true,
        "id": "MadICv24-o9z",
        "outputId": "4ee2985f-5716-4938-d684-a20d9fe25dd1"
      },
      "outputs": [],
      "source": [
        "! pip install networkx\n",
        "! pip install ipythonblocks\n",
        "! pip install sortedcontainers"
      ]
    },
    {
      "cell_type": "markdown",
      "metadata": {
        "id": "O5OThIcldCKT"
      },
      "source": [
        "### *Importing all the functions we will use from aima library*"
      ]
    },
    {
      "cell_type": "code",
      "execution_count": 6,
      "metadata": {
        "id": "crefNzjc-o95"
      },
      "outputs": [],
      "source": [
        "from aima import logic\n",
        "from aima.logic import FolKB, fol_fc_ask, PropKB, fol_bc_ask, dpll_satisfiable\n",
        "from aima.utils import expr, Expr"
      ]
    },
    {
      "cell_type": "markdown",
      "metadata": {
        "id": "z7DW8W5qXsUO"
      },
      "source": [
        "##***The Propositional Logic Approach***"
      ]
    },
    {
      "cell_type": "markdown",
      "metadata": {
        "id": "o53d0O_ugFsc"
      },
      "source": [
        "Defining all constants lists"
      ]
    },
    {
      "cell_type": "code",
      "execution_count": 7,
      "metadata": {
        "id": "lbeGGeE-ZZI3"
      },
      "outputs": [],
      "source": [
        "people = ['MummyPotter', 'DaddyPotter', 'Betty', 'Peter', 'AuntPolly']\n",
        "desserts = ['NapoleonCake', 'Marmalade', 'IceCream', 'Marshmallow', 'Waffles']\n",
        "dreams = ['Paris', 'Sea', 'SwanLake', 'Coins']\n",
        "hobbies = ['Yoga', 'Ballet', 'Fishing', 'CoinCollecting', 'Sewing']"
      ]
    },
    {
      "cell_type": "markdown",
      "metadata": {
        "id": "fHS6AtTRgS4m"
      },
      "source": [
        "Creating rules for family members having only one dessert"
      ]
    },
    {
      "cell_type": "code",
      "execution_count": 9,
      "metadata": {
        "id": "jzsP_AmzgjQr"
      },
      "outputs": [],
      "source": [
        "rules = []\n",
        "# Each person (except AuntPolly) must like exactly one dessert\n",
        "family_members = [p for p in people if p != 'AuntPolly']\n",
        "for person in family_members:\n",
        "    statement = ''\n",
        "    for i in range(len(desserts)):\n",
        "        statement = statement + f'({person}{desserts[i]}'\n",
        "        for j in range(len(desserts)):\n",
        "            if i != j:\n",
        "                statement = statement + f' & ~{person}{desserts[j]}'\n",
        "        statement = statement + ') | '\n",
        "    rules.append(statement[:-2])\n",
        "\n",
        "# AuntPolly cannot like any desserts\n",
        "for dessert in desserts:\n",
        "    rules.append(f'~AuntPolly{dessert}')"
      ]
    },
    {
      "cell_type": "markdown",
      "metadata": {
        "id": "OwFzJVFEgtbn"
      },
      "source": [
        "Each Person must have exactly one dream"
      ]
    },
    {
      "cell_type": "code",
      "execution_count": 10,
      "metadata": {
        "id": "Qu5L8TrfgzPM"
      },
      "outputs": [],
      "source": [
        "for person in family_members:\n",
        "        statement = ''\n",
        "        for i in range(len(dreams)):\n",
        "            statement = statement + f'({person}{dreams[i]}'\n",
        "            for j in range(len(dreams)):\n",
        "                if i != j:\n",
        "                    statement = statement + f' & ~{person}{dreams[j]}'\n",
        "            statement = statement + ') | '\n",
        "        rules.append(statement[:-2])"
      ]
    },
    {
      "cell_type": "markdown",
      "metadata": {
        "id": "mY8s-VHzg3QR"
      },
      "source": [
        "Facts from the puzzle:\n",
        "1. Mummy Potter attends yoga classes on Mondays and Thursdays.\n",
        "2. A person loving ice cream dreams of visiting Paris.\n",
        "3. Betty likes only marmalade.\n",
        "4. Mummy eats only marshmallows.\n",
        "5. The Potters have three money boxes for their dreams at their home: one for a trip to\n",
        "the sea, one for a ticket to the Swan Lake ballet, one for a new album for the collection of coins.\n",
        "6. Aunt Polly has a sewing machine and a collection of sewing materials at home. She made a ballet suit for Betty for her classes.\n",
        "7. Peter often goes fishing with his dad, but he quickly becomes bored of it and begins to\n",
        "walk down the shore looking for rare coins for his collection.\n",
        "8. Peter doesn’t like anything with cream.\n",
        "9. Peter and Betty’s parents have made the same New Year wish both.\n",
        "10. On holidays, Mummy prepares the family’s favorite desserts: Napoleon cake, marmalade, and waffles."
      ]
    },
    {
      "cell_type": "code",
      "execution_count": 11,
      "metadata": {
        "id": "OT0vuwI5g-el"
      },
      "outputs": [],
      "source": [
        "rules.extend([\n",
        "        # Rule 1: Mummy Potter does yoga\n",
        "        'MummyPotterYoga',\n",
        "\n",
        "        # Rule 2: Ice cream lover dreams of Paris (including AuntPolly)\n",
        "        '(MummyPotterIceCream ==> MummyPotterParis)',\n",
        "        '(DaddyPotterIceCream ==> DaddyPotterParis)',\n",
        "        '(BettyIceCream ==> BettyParis)',\n",
        "        '(PeterIceCream ==> PeterParis)',\n",
        "        '(AuntPollyIceCream ==> AuntPollyParis)',\n",
        "\n",
        "        # Rule 3: Betty likes only marmalade\n",
        "        'BettyMarmalade & ~BettyNapoleonCake & ~BettyMarshmallow & ~BettyIceCream & ~BettyWaffles',\n",
        "\n",
        "        # Rule 4: Mummy eats only marshmallows\n",
        "        'MummyPotterMarshmallow & ~MummyPotterNapoleonCake & ~MummyPotterMarmalade & ~MummyPotterIceCream & ~MummyPotterWaffles',\n",
        "\n",
        "        # Rule 5: Three specific dreams exist\n",
        "        f'{\" | \".join([f\"{p}Sea\" for p in family_members])}',\n",
        "        f'{\" | \".join([f\"{p}SwanLake\" for p in family_members])}',\n",
        "        f'{\" | \".join([f\"{p}Coins\" for p in family_members])}',\n",
        "\n",
        "        # Rule 6: Aunt Polly sews and Betty does ballet\n",
        "        'AuntPollySewing',\n",
        "        'BettyBallet',\n",
        "\n",
        "        # Rule 7: Peter fishes and collects coins\n",
        "        'PeterFishing & PeterCoinCollecting',\n",
        "        # Peter dreams of coins (implied by coin collecting)\n",
        "        'PeterCoins',\n",
        "\n",
        "        # Rule 8: Peter doesn't like cream (Napoleon cake)\n",
        "        '~PeterNapoleonCake',\n",
        "\n",
        "        # Rule 9: Parents have same dream\n",
        "        '(MummyPotterParis <=> DaddyPotterParis)',\n",
        "        '(MummyPotterSea <=> DaddyPotterSea)',\n",
        "        '(MummyPotterSwanLake <=> DaddyPotterSwanLake)',\n",
        "        '(MummyPotterCoins <=> DaddyPotterCoins)',\n",
        "\n",
        "        # Rule 10: Available desserts must all be assigned\n",
        "        f'{\" | \".join([f\"{p}NapoleonCake\" for p in family_members])}',\n",
        "        f'{\" | \".join([f\"{p}Waffles\" for p in family_members])}',\n",
        "    ])"
      ]
    },
    {
      "cell_type": "markdown",
      "metadata": {
        "id": "CCl4tC8IjipB"
      },
      "source": [
        "Initilize the knowledge base and helping query function"
      ]
    },
    {
      "cell_type": "code",
      "execution_count": 14,
      "metadata": {
        "id": "fQXaWwrijqHC"
      },
      "outputs": [],
      "source": [
        "# Initialize knowledge base\n",
        "prop_KB = PropKB()\n",
        "for rule in rules:\n",
        "    prop_KB.tell(expr(rule))\n",
        "\n",
        "# Helping query function\n",
        "def query_dpll(clauses, query):\n",
        "    combined = Expr('&', *clauses) & query\n",
        "    return dpll_satisfiable(combined)"
      ]
    },
    {
      "cell_type": "markdown",
      "metadata": {
        "id": "d-ctWTZ6hDYT"
      },
      "source": [
        "Query for Q1: Who likes the Napoleon cake?"
      ]
    },
    {
      "cell_type": "code",
      "execution_count": 17,
      "metadata": {
        "colab": {
          "base_uri": "https://localhost:8080/"
        },
        "id": "oJt8D-DihS5h",
        "outputId": "1d222ff7-396f-4b13-d58b-d45af566eb46"
      },
      "outputs": [
        {
          "name": "stdout",
          "output_type": "stream",
          "text": [
            "Query 1: Who likes Napoleon Cake?\n",
            "DaddyPotter likes Napoleon Cake.\n"
          ]
        }
      ],
      "source": [
        "print(\"Query 1: Who likes Napoleon Cake?\")\n",
        "for person in people:\n",
        "    query = expr(f'{person}NapoleonCake')\n",
        "    if query_dpll(prop_KB.clauses, query):\n",
        "        print(f\"{person} likes Napoleon Cake.\")"
      ]
    },
    {
      "cell_type": "markdown",
      "metadata": {
        "id": "Io3MkWfUhX2b"
      },
      "source": [
        "Query for Q2: Who dreams of going to Paris?"
      ]
    },
    {
      "cell_type": "code",
      "execution_count": 18,
      "metadata": {
        "colab": {
          "base_uri": "https://localhost:8080/"
        },
        "id": "vUiX7z9AhaGX",
        "outputId": "4033f005-8cd2-49e0-8368-d0848fc45e4d"
      },
      "outputs": [
        {
          "name": "stdout",
          "output_type": "stream",
          "text": [
            "\n",
            "Query 2: Who dreams of going to Paris?\n",
            "AuntPolly dreams of going to Paris.\n"
          ]
        }
      ],
      "source": [
        "print(\"\\nQuery 2: Who dreams of going to Paris?\")\n",
        "for person in people:\n",
        "    query = expr(f'{person}Paris')\n",
        "    if query_dpll(prop_KB.clauses, query):\n",
        "        print(f\"{person} dreams of going to Paris.\")"
      ]
    },
    {
      "cell_type": "markdown",
      "metadata": {
        "id": "cP_8KyU9-o97"
      },
      "source": [
        "## ***The First-Order Logic Approach***"
      ]
    },
    {
      "cell_type": "markdown",
      "metadata": {
        "id": "NnsYs3wUZI6n"
      },
      "source": [
        "Initializing the knowledge base"
      ]
    },
    {
      "cell_type": "code",
      "execution_count": 19,
      "metadata": {
        "id": "daozVJuK-o9-"
      },
      "outputs": [],
      "source": [
        "first_order_KB = FolKB()"
      ]
    },
    {
      "cell_type": "markdown",
      "metadata": {
        "id": "UAj3XtnS-o9_"
      },
      "source": [
        "Constants representing people"
      ]
    },
    {
      "cell_type": "code",
      "execution_count": 20,
      "metadata": {
        "id": "s3liz-75-o-A"
      },
      "outputs": [],
      "source": [
        "first_order_KB.tell(expr(\"Person(Mummy)\"))\n",
        "first_order_KB.tell(expr(\"Person(Daddy)\"))\n",
        "first_order_KB.tell(expr(\"Person(Peter)\"))\n",
        "first_order_KB.tell(expr(\"Person(Betty)\"))\n",
        "first_order_KB.tell(expr(\"Person(AuntPolly)\"))"
      ]
    },
    {
      "cell_type": "markdown",
      "metadata": {
        "id": "K8o5f7y_-o-B"
      },
      "source": [
        "Constants representing desserts"
      ]
    },
    {
      "cell_type": "code",
      "execution_count": 21,
      "metadata": {
        "id": "pu7pa4Pm-o-C"
      },
      "outputs": [],
      "source": [
        "first_order_KB.tell(expr(\"Dessert(IceCream)\"))\n",
        "first_order_KB.tell(expr(\"Dessert(Marmalade)\"))\n",
        "first_order_KB.tell(expr(\"Dessert(Marshmallows)\"))\n",
        "first_order_KB.tell(expr(\"Dessert(NapoleonCake)\"))\n",
        "first_order_KB.tell(expr(\"Dessert(Waffles)\"))\n",
        "first_order_KB.tell(expr(\"CreamyFood(NapoleonCake)\"))"
      ]
    },
    {
      "cell_type": "markdown",
      "metadata": {
        "id": "U2NYmtpx-o-D"
      },
      "source": [
        "Facts from the puzzle:\n",
        "1. Mummy Potter attends yoga classes on Mondays and Thursdays.\n",
        "2. A person loving ice cream dreams of visiting Paris.\n",
        "3. Betty likes only marmalade.\n",
        "4. Mummy eats only marshmallows.\n",
        "5. The Potters have three money boxes for their dreams at their home: one for a trip to\n",
        "the sea, one for a ticket to the Swan Lake ballet, one for a new album for the collection of coins.\n",
        "6. Aunt Polly has a sewing machine and a collection of sewing materials at home. She made a ballet suit for Betty for her classes.\n",
        "7. Peter often goes fishing with his dad, but he quickly becomes bored of it and begins to\n",
        "walk down the shore looking for rare coins for his collection.\n",
        "8. Peter doesn’t like anything with cream.\n",
        "9. Peter and Betty’s parents have made the same New Year wish both.\n",
        "10. On holidays, Mummy prepares the family’s favorite desserts: Napoleon cake, marmalade, and waffles."
      ]
    },
    {
      "cell_type": "markdown",
      "metadata": {
        "id": "J0DGlHTrZ2gS"
      },
      "source": [
        "Initilizing the facts"
      ]
    },
    {
      "cell_type": "code",
      "execution_count": 22,
      "metadata": {
        "id": "JBaDpu9H-o-q"
      },
      "outputs": [],
      "source": [
        "first_order_KB.tell(expr(\"Attends(Mummy, Yoga, Monday)\"))\n",
        "first_order_KB.tell(expr(\"Attends(Mummy, Yoga, Thursday)\"))\n",
        "first_order_KB.tell(expr(\"Loves(x, IceCream) ==> DreamsOf(x, Paris)\"))\n",
        "first_order_KB.tell(expr(\"LikesOnly(Betty, Marmalade)\"))\n",
        "first_order_KB.tell(expr(\"EatsOnly(Mummy, Marshmallows)\"))\n",
        "first_order_KB.tell(expr(\"HasMoneyBoxFor(Potters, SeaTrip)\"))\n",
        "first_order_KB.tell(expr(\"HasMoneyBoxFor(Potters, BalletTicket)\"))\n",
        "first_order_KB.tell(expr(\"HasMoneyBoxFor(Potters, CoinAlbum)\"))\n",
        "first_order_KB.tell(expr(\"Has(AuntPolly, SewingMachine)\"))\n",
        "first_order_KB.tell(expr(\"Has(AuntPolly, SewingMaterials)\"))\n",
        "first_order_KB.tell(expr(\"MadeFor(AuntPolly, BettySuit, Betty)\"))\n",
        "first_order_KB.tell(expr(\"InterestedIn(Peter, Coins)\"))\n",
        "first_order_KB.tell(expr(\"CreamyFood(x) ==> Dislike(Peter, x)\"))\n",
        "first_order_KB.tell(expr(\"Exists(wish, NewYearWish(Mummy, wish) & NewYearWish(Daddy, wish))\"))\n",
        "first_order_KB.tell(expr(\"Prepares(Mummy, NapoleonCake, Holiday)\"))\n",
        "first_order_KB.tell(expr(\"Prepares(Mummy, Marmalade, Holiday)\"))\n",
        "first_order_KB.tell(expr(\"Prepares(Mummy, Waffles, Holiday)\"))"
      ]
    },
    {
      "cell_type": "markdown",
      "metadata": {
        "id": "207HDqd1aD7P"
      },
      "source": [
        "Adding Inferences to the knowledge base"
      ]
    },
    {
      "cell_type": "code",
      "execution_count": 23,
      "metadata": {
        "id": "6zSWepHtaMkS"
      },
      "outputs": [],
      "source": [
        "first_order_KB.tell(expr(\"Prepares(Mummy, NapoleonCake, Holiday) & Dislike(Peter, NapoleonCake) & LikesOnly(Betty, Marmalade) & EatsOnly(Mummy, Marshmallows) ==> Likes(Daddy, NapoleonCake)\"))\n",
        "first_order_KB.tell(expr(\"Hates(Mummy, IceCream)\"))\n",
        "first_order_KB.tell(expr(\"Hates(Betty, IceCream)\"))\n",
        "first_order_KB.tell(expr(\"CreamyFood(IceCream) ==> Hates(Peter, IceCream)\"))\n",
        "first_order_KB.tell(expr(\"Loves(AuntPolly, IceCream)\"))\n",
        "first_order_KB.tell(expr(\"Loves(AuntPolly, IceCream) ==> DreamsOf(AuntPolly, Paris)\"))"
      ]
    },
    {
      "cell_type": "markdown",
      "metadata": {
        "id": "Pbb7DhEW-o-s"
      },
      "source": [
        "Query for Q1: Who likes the Napoleon cake?"
      ]
    },
    {
      "cell_type": "code",
      "execution_count": 24,
      "metadata": {
        "colab": {
          "base_uri": "https://localhost:8080/"
        },
        "id": "W1X8ABmi-o-t",
        "outputId": "d820d77a-5b05-4da1-c42f-87098cdebcb9"
      },
      "outputs": [
        {
          "name": "stdout",
          "output_type": "stream",
          "text": [
            "Question 1: Who likes the Napoleon cake?\n",
            "Answer: {p: Daddy}\n"
          ]
        }
      ],
      "source": [
        "print(\"Question 1: Who likes the Napoleon cake?\")\n",
        "napoleon_cake_lovers = fol_fc_ask(first_order_KB, expr(\"Likes(p, NapoleonCake)\"))\n",
        "for item in napoleon_cake_lovers:\n",
        "    print(f\"Answer: {item}\")"
      ]
    },
    {
      "cell_type": "markdown",
      "metadata": {
        "id": "OLACsEwv-o-u"
      },
      "source": [
        "Query of Q2: Who dreams of going to Paris?"
      ]
    },
    {
      "cell_type": "code",
      "execution_count": 25,
      "metadata": {
        "colab": {
          "base_uri": "https://localhost:8080/"
        },
        "id": "Uq7yup4r-o-u",
        "outputId": "950404b2-63a2-4e5e-9ef6-f3afc6b4e41d"
      },
      "outputs": [
        {
          "name": "stdout",
          "output_type": "stream",
          "text": [
            "Question 2: Who dreams of going to Paris?\n",
            "Answer: {p: AuntPolly}\n"
          ]
        }
      ],
      "source": [
        "print(\"Question 2: Who dreams of going to Paris?\")\n",
        "paris_dreamers = fol_fc_ask(first_order_KB, expr(\"DreamsOf(p, Paris)\"))\n",
        "for item in paris_dreamers:\n",
        "    print(f\"Answer: {item}\")"
      ]
    }
  ],
  "metadata": {
    "colab": {
      "collapsed_sections": [
        "TiCqPEXqc0aX",
        "O5OThIcldCKT",
        "z7DW8W5qXsUO",
        "cP_8KyU9-o97"
      ],
      "provenance": []
    },
    "kernelspec": {
      "display_name": "Python 3",
      "language": "python",
      "name": "python3"
    },
    "language_info": {
      "codemirror_mode": {
        "name": "ipython",
        "version": 3
      },
      "file_extension": ".py",
      "mimetype": "text/x-python",
      "name": "python",
      "nbconvert_exporter": "python",
      "pygments_lexer": "ipython3",
      "version": "3.12.3"
    },
    "orig_nbformat": 4,
    "vscode": {
      "interpreter": {
        "hash": "486e0d5a79acdbfffd563ee7a67a93a5017bd2a4f66495483a69f0245c8a4a6c"
      }
    }
  },
  "nbformat": 4,
  "nbformat_minor": 0
}
